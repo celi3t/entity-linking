{
 "cells": [
  {
   "cell_type": "markdown",
   "id": "dbf955d2-3940-4006-8ea7-f424e1bd6b2e",
   "metadata": {},
   "source": [
    "### Testing of bloom filter hashing algorithms - do they improve name similarity calculations?"
   ]
  },
  {
   "cell_type": "markdown",
   "id": "55666e80-33f6-44cf-a720-0275f0e2c0d3",
   "metadata": {},
   "source": [
    "* For this evaluation use the names + nicknames tables that was used to simulate noise in the data\n",
    "* Hypothesis: the distance between names and nicknames is shorter than the distance between unrelated names"
   ]
  },
  {
   "cell_type": "code",
   "execution_count": 93,
   "id": "f56ccba8-e791-4229-8f29-3f577431117f",
   "metadata": {},
   "outputs": [],
   "source": [
    "import pandas as pd\n",
    "import bitarray\n",
    "import mmh3"
   ]
  },
  {
   "cell_type": "code",
   "execution_count": 95,
   "id": "21defea9-3844-49b2-9154-f0c5f8d9ed79",
   "metadata": {},
   "outputs": [],
   "source": [
    "# Hashing function to test\n",
    "def bloom_hash(size, hash_count, item):\n",
    "    bit_array = bitarray.bitarray(size)\n",
    "    bit_array.setall(0)\n",
    "    for ii in range(hash_count):\n",
    "        index = mmh3.hash(item, ii) % size\n",
    "        bit_array[index] = 1\n",
    "    return bit_array"
   ]
  },
  {
   "cell_type": "code",
   "execution_count": 96,
   "id": "1be09545-c6a8-42bc-887b-4e687e14982b",
   "metadata": {},
   "outputs": [],
   "source": [
    "# similarity coefficient\n",
    "def sum_digits(bits):\n",
    "    digits = [int(x) for x in list(bits)]\n",
    "    return sum(digits)\n",
    "\n",
    "def dice_coeff(bits1, bits2):\n",
    "    bits = list(zip(bits1, bits2))\n",
    "    commons = sum([x[0] == x[1] for x in bits])\n",
    "    return (2 * commons) / (sum_digits(bits1) + sum_digits(bits2))"
   ]
  },
  {
   "cell_type": "code",
   "execution_count": 97,
   "id": "5e4a68c5-6321-419e-b2e7-bbd55261a58c",
   "metadata": {},
   "outputs": [
    {
     "data": {
      "text/html": [
       "<div>\n",
       "<style scoped>\n",
       "    .dataframe tbody tr th:only-of-type {\n",
       "        vertical-align: middle;\n",
       "    }\n",
       "\n",
       "    .dataframe tbody tr th {\n",
       "        vertical-align: top;\n",
       "    }\n",
       "\n",
       "    .dataframe thead th {\n",
       "        text-align: right;\n",
       "    }\n",
       "</style>\n",
       "<table border=\"1\" class=\"dataframe\">\n",
       "  <thead>\n",
       "    <tr style=\"text-align: right;\">\n",
       "      <th></th>\n",
       "      <th>0</th>\n",
       "      <th>first</th>\n",
       "      <th>nicknames</th>\n",
       "    </tr>\n",
       "  </thead>\n",
       "  <tbody>\n",
       "    <tr>\n",
       "      <th>0</th>\n",
       "      <td>aaron,erin,ronnie,ron</td>\n",
       "      <td>aaron</td>\n",
       "      <td>[erin, ronnie, ron]</td>\n",
       "    </tr>\n",
       "    <tr>\n",
       "      <th>1</th>\n",
       "      <td>abbigail,nabby,abby,gail,abbi,abbey</td>\n",
       "      <td>abbigail</td>\n",
       "      <td>[nabby, abby, gail, abbi, abbey]</td>\n",
       "    </tr>\n",
       "    <tr>\n",
       "      <th>2</th>\n",
       "      <td>abednego,bedney</td>\n",
       "      <td>abednego</td>\n",
       "      <td>[bedney]</td>\n",
       "    </tr>\n",
       "    <tr>\n",
       "      <th>3</th>\n",
       "      <td>abel,ebbie,ab,abe,eb</td>\n",
       "      <td>abel</td>\n",
       "      <td>[ebbie, ab, abe, eb]</td>\n",
       "    </tr>\n",
       "    <tr>\n",
       "      <th>4</th>\n",
       "      <td>abiel,ab</td>\n",
       "      <td>abiel</td>\n",
       "      <td>[ab]</td>\n",
       "    </tr>\n",
       "  </tbody>\n",
       "</table>\n",
       "</div>"
      ],
      "text/plain": [
       "                                     0     first  \\\n",
       "0                aaron,erin,ronnie,ron     aaron   \n",
       "1  abbigail,nabby,abby,gail,abbi,abbey  abbigail   \n",
       "2                      abednego,bedney  abednego   \n",
       "3                 abel,ebbie,ab,abe,eb      abel   \n",
       "4                             abiel,ab     abiel   \n",
       "\n",
       "                          nicknames  \n",
       "0               [erin, ronnie, ron]  \n",
       "1  [nabby, abby, gail, abbi, abbey]  \n",
       "2                          [bedney]  \n",
       "3              [ebbie, ab, abe, eb]  \n",
       "4                              [ab]  "
      ]
     },
     "execution_count": 97,
     "metadata": {},
     "output_type": "execute_result"
    }
   ],
   "source": [
    "# get data ready in the form [(name, list_names)]\n",
    "names = pd.read_csv(\"../datasets/names_lookup.csv\", header = None, delimiter = \";\")\n",
    "names[\"first\"] = names[0].apply(lambda x: x.split(\",\")[0])\n",
    "names[\"nicknames\"] = names[0].apply(lambda x: x.split(\",\")[1:])\n",
    "names.head(5)"
   ]
  },
  {
   "cell_type": "code",
   "execution_count": 98,
   "id": "26a77f4c-95e1-4ac8-8811-91e04d678585",
   "metadata": {},
   "outputs": [],
   "source": [
    "names_vs_nicknames = list(zip(names[\"first\"].values, names[\"nicknames\"].values)) "
   ]
  },
  {
   "cell_type": "code",
   "execution_count": 99,
   "id": "0e137e20-122b-4df0-8628-890d620ca121",
   "metadata": {},
   "outputs": [],
   "source": [
    "names_for_comparison = []\n",
    "for n in names[\"first\"].values:\n",
    "    nlist = list(names[\"first\"].values)\n",
    "    nlist.remove(n)\n",
    "    names_for_comparison.append(nlist)\n",
    "names_vs_names = list(zip(names[\"first\"].values, names_for_comparison)) "
   ]
  },
  {
   "cell_type": "code",
   "execution_count": 100,
   "id": "408ac35e-6fd6-4e5a-b228-df3f4c6e0cc9",
   "metadata": {},
   "outputs": [],
   "source": [
    "# Comparing function\n",
    "def compare(names):\n",
    "    coeffs = []\n",
    "    for row in names:\n",
    "        first_name = row[0]\n",
    "        nicknames = row[1]\n",
    "        for nickname in nicknames:\n",
    "            bits1 = bloom_hash(20, 10, first_name)\n",
    "            bits2 = bloom_hash(20, 10, nickname)\n",
    "            coeffs.append(dice_coeff(bits1, bits2))\n",
    "    return coeffs"
   ]
  },
  {
   "cell_type": "code",
   "execution_count": 81,
   "id": "7ba50240-5d7a-4608-8ffb-8f9004173280",
   "metadata": {},
   "outputs": [],
   "source": [
    "results_nicknames = compare(names_vs_nicknames)\n",
    "results_names = compare(names_vs_names)"
   ]
  },
  {
   "cell_type": "code",
   "execution_count": 86,
   "id": "863aaa51-7812-4dee-b563-e0a106f0b6ee",
   "metadata": {},
   "outputs": [],
   "source": []
  },
  {
   "cell_type": "code",
   "execution_count": 102,
   "id": "ae2c4abb-22d1-4cbe-94e2-bc258734a2c2",
   "metadata": {},
   "outputs": [],
   "source": [
    "import numpy as np\n",
    "import matplotlib.pyplot as plt"
   ]
  },
  {
   "cell_type": "code",
   "execution_count": 110,
   "id": "d9824cdd-6f45-47ce-8cc3-8e52f2b74de8",
   "metadata": {},
   "outputs": [],
   "source": [
    "hist1 = np.histogram(results_nicknames, bins = 10)\n",
    "hist2 = np.histogram(results_names, bins = 10)"
   ]
  },
  {
   "cell_type": "code",
   "execution_count": 111,
   "id": "6f20a9e7-a486-486f-970f-6c71bb5c55e4",
   "metadata": {},
   "outputs": [
    {
     "data": {
      "text/plain": [
       "array([ 25, 158, 395, 765, 568, 310,  96,  12,   0,   2])"
      ]
     },
     "execution_count": 111,
     "metadata": {},
     "output_type": "execute_result"
    }
   ],
   "source": [
    "hist1[0]"
   ]
  },
  {
   "cell_type": "code",
   "execution_count": 112,
   "id": "2f11752c-01b9-465f-aec8-dc3318213713",
   "metadata": {},
   "outputs": [
    {
     "data": {
      "text/plain": [
       "<BarContainer object of 10 artists>"
      ]
     },
     "execution_count": 112,
     "metadata": {},
     "output_type": "execute_result"
    },
    {
     "data": {
      "image/png": "[encoded data removed]",
      "text/plain": [
       "<Figure size 432x288 with 1 Axes>"
      ]
     },
     "metadata": {
      "needs_background": "light"
     },
     "output_type": "display_data"
    }
   ],
   "source": [
    "plt.bar(hist1[1][1:], hist1[0])"
   ]
  },
  {
   "cell_type": "code",
   "execution_count": 113,
   "id": "31f7f005-882c-40c2-ae20-463f94c1bed4",
   "metadata": {},
   "outputs": [
    {
     "data": {
      "text/plain": [
       "<BarContainer object of 10 artists>"
      ]
     },
     "execution_count": 113,
     "metadata": {},
     "output_type": "execute_result"
    },
    {
     "data": {
      "image/png": "[encoded data removed]",
      "text/plain": [
       "<Figure size 432x288 with 1 Axes>"
      ]
     },
     "metadata": {
      "needs_background": "light"
     },
     "output_type": "display_data"
    }
   ],
   "source": [
    "plt.bar(hist2[1][1:], hist2[0])"
   ]
  },
  {
   "cell_type": "code",
   "execution_count": null,
   "id": "c642f9b7-cbd5-4677-bdf7-4966f0ce2708",
   "metadata": {},
   "outputs": [],
   "source": []
  }
 ],
 "metadata": {
  "kernelspec": {
   "display_name": "Python 3 (ipykernel)",
   "language": "python",
   "name": "python3"
  },
  "language_info": {
   "codemirror_mode": {
    "name": "ipython",
    "version": 3
   },
   "file_extension": ".py",
   "mimetype": "text/x-python",
   "name": "python",
   "nbconvert_exporter": "python",
   "pygments_lexer": "ipython3",
   "version": "3.7.9"
  }
 },
 "nbformat": 4,
 "nbformat_minor": 5
}
