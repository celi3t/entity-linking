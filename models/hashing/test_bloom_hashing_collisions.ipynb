{
 "cells": [
  {
   "cell_type": "markdown",
   "id": "dbf955d2-3940-4006-8ea7-f424e1bd6b2e",
   "metadata": {},
   "source": [
    "### Testing of bloom filter hashing algorithms "
   ]
  },
  {
   "cell_type": "code",
   "execution_count": 31,
   "id": "f56ccba8-e791-4229-8f29-3f577431117f",
   "metadata": {},
   "outputs": [],
   "source": [
    "import pandas as pd\n",
    "from bloom import bloom_hash"
   ]
  },
  {
   "cell_type": "code",
   "execution_count": 32,
   "id": "1be09545-c6a8-42bc-887b-4e687e14982b",
   "metadata": {},
   "outputs": [
    {
     "data": {
      "text/html": [
       "<div>\n",
       "<style scoped>\n",
       "    .dataframe tbody tr th:only-of-type {\n",
       "        vertical-align: middle;\n",
       "    }\n",
       "\n",
       "    .dataframe tbody tr th {\n",
       "        vertical-align: top;\n",
       "    }\n",
       "\n",
       "    .dataframe thead th {\n",
       "        text-align: right;\n",
       "    }\n",
       "</style>\n",
       "<table border=\"1\" class=\"dataframe\">\n",
       "  <thead>\n",
       "    <tr style=\"text-align: right;\">\n",
       "      <th></th>\n",
       "      <th>person_id</th>\n",
       "      <th>service_date</th>\n",
       "      <th>first_name</th>\n",
       "      <th>middle_name</th>\n",
       "      <th>last_name</th>\n",
       "      <th>dob</th>\n",
       "      <th>ssn</th>\n",
       "    </tr>\n",
       "  </thead>\n",
       "  <tbody>\n",
       "    <tr>\n",
       "      <th>0</th>\n",
       "      <td>1000</td>\n",
       "      <td>2020-10-20</td>\n",
       "      <td>vicky</td>\n",
       "      <td>Kathy</td>\n",
       "      <td>Singh</td>\n",
       "      <td>1984-04-01</td>\n",
       "      <td>895-37-4654</td>\n",
       "    </tr>\n",
       "    <tr>\n",
       "      <th>1</th>\n",
       "      <td>1001</td>\n",
       "      <td>2021-09-06</td>\n",
       "      <td>Gary</td>\n",
       "      <td>Stacey</td>\n",
       "      <td>Watson</td>\n",
       "      <td>1984-10-22</td>\n",
       "      <td>220-72-9331</td>\n",
       "    </tr>\n",
       "    <tr>\n",
       "      <th>2</th>\n",
       "      <td>1002</td>\n",
       "      <td>2020-11-07</td>\n",
       "      <td>Anna</td>\n",
       "      <td>Joseph</td>\n",
       "      <td>Camacho</td>\n",
       "      <td>1996-04-11</td>\n",
       "      <td>404-44-6841</td>\n",
       "    </tr>\n",
       "    <tr>\n",
       "      <th>3</th>\n",
       "      <td>1003</td>\n",
       "      <td>2021-10-24</td>\n",
       "      <td>Rose</td>\n",
       "      <td>Amanda</td>\n",
       "      <td>Powers</td>\n",
       "      <td>1989-12-27</td>\n",
       "      <td>072-45-6710</td>\n",
       "    </tr>\n",
       "    <tr>\n",
       "      <th>4</th>\n",
       "      <td>1004</td>\n",
       "      <td>2020-12-26</td>\n",
       "      <td>Rebecca</td>\n",
       "      <td>Steven</td>\n",
       "      <td>Zuniga</td>\n",
       "      <td>1962-03-10</td>\n",
       "      <td>624-34-0417</td>\n",
       "    </tr>\n",
       "  </tbody>\n",
       "</table>\n",
       "</div>"
      ],
      "text/plain": [
       "   person_id service_date first_name middle_name last_name         dob  \\\n",
       "0       1000   2020-10-20      vicky       Kathy     Singh  1984-04-01   \n",
       "1       1001   2021-09-06       Gary      Stacey    Watson  1984-10-22   \n",
       "2       1002   2020-11-07       Anna      Joseph   Camacho  1996-04-11   \n",
       "3       1003   2021-10-24       Rose      Amanda    Powers  1989-12-27   \n",
       "4       1004   2020-12-26    Rebecca      Steven    Zuniga  1962-03-10   \n",
       "\n",
       "           ssn  \n",
       "0  895-37-4654  \n",
       "1  220-72-9331  \n",
       "2  404-44-6841  \n",
       "3  072-45-6710  \n",
       "4  624-34-0417  "
      ]
     },
     "execution_count": 32,
     "metadata": {},
     "output_type": "execute_result"
    }
   ],
   "source": [
    "df = pd.read_csv(\"../../simulated_data/dataset_1.csv\", header = 0, delimiter = \",\")\n",
    "df.head()"
   ]
  },
  {
   "cell_type": "markdown",
   "id": "35452035-43b9-4b07-9281-0315d721eb1e",
   "metadata": {},
   "source": [
    "#### Test: ssn collisions"
   ]
  },
  {
   "cell_type": "code",
   "execution_count": 33,
   "id": "4fd3dcf8-78d1-44a7-a713-12a9dd219154",
   "metadata": {},
   "outputs": [],
   "source": [
    "hashes_bits = [list(bloom_hash(20, 5, x)) for x in df.ssn.values]\n",
    "\n",
    "hashes_list = []\n",
    "for ha in hashes_bits:\n",
    "    hashes_list.append([str(x) for x in ha])\n",
    "    \n",
    "hashes_string = []\n",
    "for ha in h:\n",
    "    hashes_string.append(\",\".join(ha))\n"
   ]
  },
  {
   "cell_type": "code",
   "execution_count": 34,
   "id": "2d140514-ffb8-4846-b258-2435c81eacbe",
   "metadata": {},
   "outputs": [
    {
     "data": {
      "text/plain": [
       "Series([], dtype: int64)"
      ]
     },
     "execution_count": 34,
     "metadata": {},
     "output_type": "execute_result"
    }
   ],
   "source": [
    "hashes_df = pd.DataFrame({\"hash\": hashes_string})\n",
    "counts = hashes_df.value_counts(\"hash\")\n",
    "# Show duplicates\n",
    "counts[counts > 1]"
   ]
  },
  {
   "cell_type": "code",
   "execution_count": null,
   "id": "830325ec-4ee6-4101-9b48-28463a2befe2",
   "metadata": {},
   "outputs": [],
   "source": []
  },
  {
   "cell_type": "markdown",
   "id": "2467c90c-0142-49d5-aebf-cd10c84a8233",
   "metadata": {},
   "source": [
    "#### Test: First name collisions"
   ]
  },
  {
   "cell_type": "code",
   "execution_count": null,
   "id": "e3fa2b89-5b6e-40af-b434-280092f6e01b",
   "metadata": {},
   "outputs": [],
   "source": []
  },
  {
   "cell_type": "markdown",
   "id": "86ad864c-6eb7-4407-a213-efe3d4081022",
   "metadata": {},
   "source": [
    "#### Test: First name collisions"
   ]
  },
  {
   "cell_type": "code",
   "execution_count": null,
   "id": "c642f9b7-cbd5-4677-bdf7-4966f0ce2708",
   "metadata": {},
   "outputs": [],
   "source": []
  }
 ],
 "metadata": {
  "kernelspec": {
   "display_name": "Python 3 (ipykernel)",
   "language": "python",
   "name": "python3"
  },
  "language_info": {
   "codemirror_mode": {
    "name": "ipython",
    "version": 3
   },
   "file_extension": ".py",
   "mimetype": "text/x-python",
   "name": "python",
   "nbconvert_exporter": "python",
   "pygments_lexer": "ipython3",
   "version": "3.7.9"
  }
 },
 "nbformat": 4,
 "nbformat_minor": 5
}
