{
 "cells": [
  {
   "cell_type": "code",
   "execution_count": 31,
   "id": "0b93311c-8c62-4668-bb72-a16edbc70cc9",
   "metadata": {},
   "outputs": [],
   "source": [
    "import pandas as pd\n",
    "from preprocessing import pre_phonetic_encoding, pre_string_clean"
   ]
  },
  {
   "cell_type": "code",
   "execution_count": null,
   "id": "91d9220a-096f-4dbe-84d1-8e4eb0110743",
   "metadata": {},
   "outputs": [],
   "source": []
  },
  {
   "cell_type": "code",
   "execution_count": 32,
   "id": "3ed46623-bb86-4d48-be83-6b610316f3b0",
   "metadata": {},
   "outputs": [],
   "source": [
    "df1 = pd.read_csv(\"../simulated_data/dataset_1.csv\")\n",
    "df2 = pd.read_csv(\"../simulated_data/dataset_2.csv\")"
   ]
  },
  {
   "cell_type": "markdown",
   "id": "6c1ca1cb-2d51-42b7-8376-37f21a0ea866",
   "metadata": {},
   "source": [
    "All Hashing models take:\n",
    "* a list of columns to hash\n",
    "* a list of preprocessing steps\n",
    "* create the final item to hash\n",
    "* a hashing function"
   ]
  },
  {
   "cell_type": "code",
   "execution_count": 18,
   "id": "98c4b5cf-58e0-4467-9624-783f1ab51060",
   "metadata": {},
   "outputs": [],
   "source": [
    "columns = [\"first_name\", \"last_name\", \"dob\", \"ssn\"]"
   ]
  },
  {
   "cell_type": "code",
   "execution_count": null,
   "id": "98156ed9-4a2b-49db-a956-ce1b085ec134",
   "metadata": {},
   "outputs": [],
   "source": [
    "preprocessing = [(pre_string_clean, \"first_name\"), (pre_phonetic_encoding, \"first_name\")]"
   ]
  },
  {
   "cell_type": "code",
   "execution_count": null,
   "id": "7f3ff381-278c-4853-ae87-34b008a19ead",
   "metadata": {},
   "outputs": [],
   "source": []
  }
 ],
 "metadata": {
  "kernelspec": {
   "display_name": "Python 3 (ipykernel)",
   "language": "python",
   "name": "python3"
  },
  "language_info": {
   "codemirror_mode": {
    "name": "ipython",
    "version": 3
   },
   "file_extension": ".py",
   "mimetype": "text/x-python",
   "name": "python",
   "nbconvert_exporter": "python",
   "pygments_lexer": "ipython3",
   "version": "3.7.9"
  }
 },
 "nbformat": 4,
 "nbformat_minor": 5
}
