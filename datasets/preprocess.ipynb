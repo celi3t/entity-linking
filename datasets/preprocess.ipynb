{
 "cells": [
  {
   "cell_type": "markdown",
   "id": "f15d18b4-2672-4816-bf3b-0504db4b1a93",
   "metadata": {},
   "source": [
    "### Tabulate raw data into required fields"
   ]
  },
  {
   "cell_type": "code",
   "execution_count": 1,
   "id": "b08cfae0-8ec3-49ce-b3d0-f1f15ceba319",
   "metadata": {},
   "outputs": [],
   "source": [
    "### Likely will be agency dependent"
   ]
  },
  {
   "cell_type": "code",
   "execution_count": null,
   "id": "5caab2f3-7db0-4aa1-a619-ce9691f00743",
   "metadata": {},
   "outputs": [],
   "source": []
  }
 ],
 "metadata": {
  "kernelspec": {
   "display_name": "Python 3 (ipykernel)",
   "language": "python",
   "name": "python3"
  },
  "language_info": {
   "codemirror_mode": {
    "name": "ipython",
    "version": 3
   },
   "file_extension": ".py",
   "mimetype": "text/x-python",
   "name": "python",
   "nbconvert_exporter": "python",
   "pygments_lexer": "ipython3",
   "version": "3.7.9"
  }
 },
 "nbformat": 4,
 "nbformat_minor": 5
}
