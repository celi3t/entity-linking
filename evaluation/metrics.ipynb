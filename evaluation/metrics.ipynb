{
 "cells": [
  {
   "cell_type": "markdown",
   "id": "b51931b5-4155-4a6d-b0e2-33cfca13589f",
   "metadata": {},
   "source": [
    "### Algo evaluation\n",
    "The input for all our metrics is going to be 2 columns: id and hash.\n",
    "\n",
    "IDs are labels for people matching, hashing are the output of, indeed, the various hashing methods."
   ]
  },
  {
   "cell_type": "code",
   "execution_count": 17,
   "id": "28a1d20b-7205-48b6-b021-32f767e0e034",
   "metadata": {},
   "outputs": [],
   "source": [
    "import pandas as pd\n",
    "import numpy as np\n",
    "from sklearn.metrics import confusion_matrix, precision_score, recall_score"
   ]
  },
  {
   "cell_type": "code",
   "execution_count": 2,
   "id": "a7d929a3-5fa5-4f7d-9e0e-5414b2e963d3",
   "metadata": {},
   "outputs": [],
   "source": [
    "example_df1 = pd.DataFrame({'id': [1,2,3,4,5,6,7],\n",
    "                           'hash' : ['a', 'b', 'c', 'd','e','f','g']})\n",
    "\n",
    "example_df2 = pd.DataFrame({'id': [1,2,3,4,5,6,7],\n",
    "                           'hash' : ['a', 'b', 'c', 'd','e','f','g']})"
   ]
  },
  {
   "cell_type": "markdown",
   "id": "31c9e606-4f82-4c70-87d2-7b624b2a5822",
   "metadata": {},
   "source": [
    "#### Stats on the data\n",
    "Duplicates ( hash collisions )"
   ]
  },
  {
   "cell_type": "code",
   "execution_count": 21,
   "id": "fef1701e-6ca1-4944-ac80-689025cce935",
   "metadata": {},
   "outputs": [
    {
     "data": {
      "text/html": [
       "<div>\n",
       "<style scoped>\n",
       "    .dataframe tbody tr th:only-of-type {\n",
       "        vertical-align: middle;\n",
       "    }\n",
       "\n",
       "    .dataframe tbody tr th {\n",
       "        vertical-align: top;\n",
       "    }\n",
       "\n",
       "    .dataframe thead th {\n",
       "        text-align: right;\n",
       "    }\n",
       "</style>\n",
       "<table border=\"1\" class=\"dataframe\">\n",
       "  <thead>\n",
       "    <tr style=\"text-align: right;\">\n",
       "      <th></th>\n",
       "      <th>id</th>\n",
       "    </tr>\n",
       "    <tr>\n",
       "      <th>hash</th>\n",
       "      <th></th>\n",
       "    </tr>\n",
       "  </thead>\n",
       "  <tbody>\n",
       "  </tbody>\n",
       "</table>\n",
       "</div>"
      ],
      "text/plain": [
       "Empty DataFrame\n",
       "Columns: [id]\n",
       "Index: []"
      ]
     },
     "execution_count": 21,
     "metadata": {},
     "output_type": "execute_result"
    }
   ],
   "source": [
    "g1 = example_df1.groupby('hash').count()\n",
    "g1.loc[g1.id > 1, :]"
   ]
  },
  {
   "cell_type": "code",
   "execution_count": 22,
   "id": "02efb1fc-3e6a-4f95-aa6a-372e98acc912",
   "metadata": {},
   "outputs": [
    {
     "data": {
      "text/html": [
       "<div>\n",
       "<style scoped>\n",
       "    .dataframe tbody tr th:only-of-type {\n",
       "        vertical-align: middle;\n",
       "    }\n",
       "\n",
       "    .dataframe tbody tr th {\n",
       "        vertical-align: top;\n",
       "    }\n",
       "\n",
       "    .dataframe thead th {\n",
       "        text-align: right;\n",
       "    }\n",
       "</style>\n",
       "<table border=\"1\" class=\"dataframe\">\n",
       "  <thead>\n",
       "    <tr style=\"text-align: right;\">\n",
       "      <th></th>\n",
       "      <th>id</th>\n",
       "    </tr>\n",
       "    <tr>\n",
       "      <th>hash</th>\n",
       "      <th></th>\n",
       "    </tr>\n",
       "  </thead>\n",
       "  <tbody>\n",
       "  </tbody>\n",
       "</table>\n",
       "</div>"
      ],
      "text/plain": [
       "Empty DataFrame\n",
       "Columns: [id]\n",
       "Index: []"
      ]
     },
     "execution_count": 22,
     "metadata": {},
     "output_type": "execute_result"
    }
   ],
   "source": [
    "g2 = example_df2.groupby('hash').count()\n",
    "g2.loc[g2.id > 1, :]"
   ]
  },
  {
   "cell_type": "markdown",
   "id": "b20f97b8-429e-4510-9f7b-ff9b418a9247",
   "metadata": {},
   "source": [
    "#### HARD Merge on the real labels"
   ]
  },
  {
   "cell_type": "code",
   "execution_count": 23,
   "id": "9ceb0c43-b0ef-4631-9145-779ce5563313",
   "metadata": {},
   "outputs": [],
   "source": [
    "### How to handle duplicate hashes? should we remove them?"
   ]
  },
  {
   "cell_type": "code",
   "execution_count": 3,
   "id": "e20e4f39-5085-4a03-8afc-d9246ba3c73a",
   "metadata": {},
   "outputs": [],
   "source": [
    "merged = example_df1.merge(example_df2, on = ['id'])"
   ]
  },
  {
   "cell_type": "code",
   "execution_count": 8,
   "id": "966c35fb-16b2-45d9-bd97-e34de4bcc185",
   "metadata": {},
   "outputs": [],
   "source": [
    "merged[\"match\"] = merged[\"hash_x\"] == merged[\"hash_y\"]\n",
    "merged[\"match\"] = merged[\"match\"].astype(\"int\")"
   ]
  },
  {
   "cell_type": "code",
   "execution_count": 16,
   "id": "a6f253d6-09cb-4b1e-a214-74e94accaa8b",
   "metadata": {},
   "outputs": [
    {
     "data": {
      "text/plain": [
       "array([[7, 0],\n",
       "       [0, 0]])"
      ]
     },
     "execution_count": 16,
     "metadata": {},
     "output_type": "execute_result"
    }
   ],
   "source": [
    "confusion_matrix(np.ones(len(merged)), merged[\"match\"], labels=[1, 0])"
   ]
  },
  {
   "cell_type": "code",
   "execution_count": 18,
   "id": "b77077be-9c77-450b-af74-648719e953dd",
   "metadata": {},
   "outputs": [
    {
     "data": {
      "text/plain": [
       "1.0"
      ]
     },
     "execution_count": 18,
     "metadata": {},
     "output_type": "execute_result"
    }
   ],
   "source": [
    "precision_score(np.ones(len(merged)), merged[\"match\"], labels=[1, 0])"
   ]
  },
  {
   "cell_type": "code",
   "execution_count": 19,
   "id": "2e5ed5a4-5de3-49cb-9bec-65a79b8da828",
   "metadata": {},
   "outputs": [
    {
     "data": {
      "text/plain": [
       "1.0"
      ]
     },
     "execution_count": 19,
     "metadata": {},
     "output_type": "execute_result"
    }
   ],
   "source": [
    "recall_score(np.ones(len(merged)), merged[\"match\"], labels=[1, 0])"
   ]
  },
  {
   "cell_type": "markdown",
   "id": "b7b794c1-13a5-43f2-9c81-8fc3de291ae1",
   "metadata": {},
   "source": [
    "#### Similarity score on the real labels"
   ]
  },
  {
   "cell_type": "code",
   "execution_count": null,
   "id": "540b522a-8172-481c-bd7d-bc33627663a6",
   "metadata": {},
   "outputs": [],
   "source": []
  },
  {
   "cell_type": "code",
   "execution_count": null,
   "id": "6225b85f-ec23-4923-b195-4dea45266ccc",
   "metadata": {},
   "outputs": [],
   "source": []
  }
 ],
 "metadata": {
  "kernelspec": {
   "display_name": "Python 3 (ipykernel)",
   "language": "python",
   "name": "python3"
  },
  "language_info": {
   "codemirror_mode": {
    "name": "ipython",
    "version": 3
   },
   "file_extension": ".py",
   "mimetype": "text/x-python",
   "name": "python",
   "nbconvert_exporter": "python",
   "pygments_lexer": "ipython3",
   "version": "3.7.9"
  }
 },
 "nbformat": 4,
 "nbformat_minor": 5
}
